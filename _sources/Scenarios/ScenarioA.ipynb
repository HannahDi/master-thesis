{
 "cells": [
  {
   "cell_type": "markdown",
   "id": "7f992e74",
   "metadata": {},
   "source": [
    "# Scenario A: Analysing time-course data using Michaelis-Menten\n",
    "Dataset provided by Stephan Malzacher (Institute of Bio- and Geosciences 1, Forschungszentrum Jülich, 52428 Jülich, Germany)  \n",
    "  \n",
    "This scenario was part of a graded course and as such should not be graded again. Since then minor changes have been made. It is one of the longer scenarios with more modelling and it shows the importance of storing the original data and reporting all conversion steps.  \n",
    "In addition it is the only scenario not using the PyEnzyme software, but the RESTful API."
   ]
  },
  {
   "cell_type": "markdown",
   "id": "ced65b7c",
   "metadata": {},
   "source": [
    "## Imports\n",
    "First, all necessary Python packages must be installed and imported.  \n",
    "This step is the same for all scenarios and differs only in the used python packages.\n",
    "If you run this notebook with Binder, you don't have to install anything. Binder takes care of this.   \n",
    "If you run this notebook locally, make sure you have all Packages installed. All needed packages with the used version can be found in the `requirements.txt` in the root GitHub directory (not in `\\book`)."
   ]
  },
  {
   "cell_type": "code",
   "execution_count": 1,
   "id": "earned-stylus",
   "metadata": {},
   "outputs": [],
   "source": [
    "import os\n",
    "import requests\n",
    "import json\n",
    "import matplotlib.pyplot as plt\n",
    "import pandas as pd\n",
    "import numpy as np\n",
    "\n",
    "from scipy import stats\n",
    "from scipy.integrate import odeint\n",
    "from lmfit import minimize, Parameters, report_fit"
   ]
  },
  {
   "cell_type": "markdown",
   "id": "6ec04119",
   "metadata": {},
   "source": [
    "## Reading EnzymeML via API read-request\n",
    "After the file path is defined, a read request is sent to the EnzymeML REST-API. The API responses with a JSON formatted string containing the data.\n",
    "When running the next code cell the data from the EnzymeML document is saved in the `enzmlJSON` variable."
   ]
  },
  {
   "cell_type": "code",
   "execution_count": 2,
   "id": "db2b4a5e",
   "metadata": {},
   "outputs": [],
   "source": [
    "path = '../../data/Malzacher_Measurements_orig.omex'\n",
    "apiURL = 'https://enzymeml.sloppy.zone'"
   ]
  },
  {
   "cell_type": "code",
   "execution_count": 3,
   "id": "eb9d1b35",
   "metadata": {},
   "outputs": [
    {
     "data": {
      "text/plain": [
       "'Malzacher_Measurements'"
      ]
     },
     "execution_count": 3,
     "metadata": {},
     "output_type": "execute_result"
    }
   ],
   "source": [
    "omexName = os.path.basename(path)\n",
    "endpoint_read = f\"{apiURL}/read\"\n",
    "payload={}\n",
    "files=[('omex_archive',(omexName,open(path,'rb'),'application/octet-stream'))]\n",
    "headers={}\n",
    "response = requests.request(\"POST\", endpoint_read, headers=headers, data=payload, files=files)\n",
    "if response.status_code==200:\n",
    "    enzmlJSON = json.loads(response.content)\n",
    "enzmlJSON['name']"
   ]
  },
  {
   "cell_type": "code",
   "execution_count": 4,
   "id": "f97ca781",
   "metadata": {},
   "outputs": [
    {
     "data": {
      "text/plain": [
       "{'s0': {'name': 'pyruvate',\n",
       "  'meta_id': 'METAID_S0',\n",
       "  'id': 's0',\n",
       "  'vessel_id': 'v0',\n",
       "  'init_conc': 50.0,\n",
       "  'constant': False,\n",
       "  'boundary': False,\n",
       "  'unit': 'mmole / l',\n",
       "  'ontology': 'SBO:0000247',\n",
       "  'smiles': 'CC(=O)C(=O)[O-]',\n",
       "  'inchi': '1S/C3H4O3/c1-2(4)3(5)6/h1H3,(H,5,6)/p-1'},\n",
       " 's1': {'name': 'acetolactate',\n",
       "  'meta_id': 'METAID_S1',\n",
       "  'id': 's1',\n",
       "  'vessel_id': 'v0',\n",
       "  'init_conc': 0.0,\n",
       "  'constant': False,\n",
       "  'boundary': False,\n",
       "  'unit': 'mmole / l',\n",
       "  'ontology': 'SBO:0000247',\n",
       "  'smiles': 'CC(C(=O)O)OC(=O)C',\n",
       "  'inchi': '1S/C5H8O4/c1-3(5(7)8)9-4(2)6/h3H,1-2H3,(H,7,8)'}}"
      ]
     },
     "execution_count": 4,
     "metadata": {},
     "output_type": "execute_result"
    }
   ],
   "source": [
    "enzmlJSON['reactants']"
   ]
  },
  {
   "cell_type": "markdown",
   "id": "e19a5857",
   "metadata": {},
   "source": [
    "The data is already known from previous work. The JSON formatted string contains all data, this is to much information to print. To work with the data one needs to know the structure of the JSON string. This structure can be found in the documentation at [https://enzymeml.sloppy.zone](https://enzymeml.sloppy.zone).  \n",
    "The name of the EnzymeML document and the reactants are printed above.  \n",
    "In this case the data contains only one measurement with 3 replicates of the substrate pyruvate, consisting of absorption values."
   ]
  },
  {
   "cell_type": "markdown",
   "id": "1e5aa11a",
   "metadata": {},
   "source": [
    "## Data preparation\n",
    "In order to visualise and model the data, it first has to be extracted and prepared.  \n",
    "All relevant data such as the time-course data is extracted."
   ]
  },
  {
   "cell_type": "code",
   "execution_count": 5,
   "id": "0158cf78",
   "metadata": {},
   "outputs": [],
   "source": [
    "protein_name = enzmlJSON['proteins']['p0']['name']\n",
    "\n",
    "# extract time-course data and measurement time\n",
    "measurements = enzmlJSON['measurements']\n",
    "reactants = measurements['m0']['species_dict']['reactants']\n",
    "replicates = reactants['s0']['replicates']\n",
    "time = replicates[0]['time']\n",
    "time_unit = replicates[0]['time_unit']\n",
    "time_course_data = []\n",
    "for replicate in replicates:\n",
    "    time_course_data.append(replicate['data'])\n",
    "time_course_data = np.array(time_course_data)"
   ]
  },
  {
   "cell_type": "markdown",
   "id": "9f5567e2",
   "metadata": {},
   "source": [
    "## Visualisation of time-course data \n",
    "All time-course data is visualised with the Python library matplotlib.  \n",
    "In order to save the figures as SVG uncomment the `plt.savefig(...)` code lines."
   ]
  },
  {
   "cell_type": "code",
   "execution_count": 6,
   "id": "3c00d3dc",
   "metadata": {},
   "outputs": [
    {
     "data": {
      "image/png": "[encoded data removed]",
      "text/plain": [
       "<Figure size 432x288 with 1 Axes>"
      ]
     },
     "metadata": {
      "needs_background": "light"
     },
     "output_type": "display_data"
    }
   ],
   "source": [
    "plt.figure()\n",
    "ax = plt.subplot()\n",
    "for time_course in time_course_data:\n",
    "    ax.plot(time, time_course, 'o', ms=3, color='#377eb8')\n",
    "plt.title('Carboligation of pyruvate catalysed by '+protein_name)\n",
    "ax.set_xlabel('time ['+time_unit+']')\n",
    "ax.set_ylabel('absorbance')\n",
    "# save as svg\n",
    "# plt.savefig('time-course.svg', bbox_inches='tight')\n",
    "plt.show()"
   ]
  },
  {
   "cell_type": "markdown",
   "id": "e396e4e7",
   "metadata": {},
   "source": [
    "## Kinetic modelling and parameter estimation\n",
    "In order to model the data and perform parameter fitting, the kinetic equations for the models are defined as Python functions, along with a function to calculate the residual between the models and the measured data.  \n",
    "In the following cell 3 different models are defined.  \n",
    "First the irreversible Michaelis-Menten kinetic for one substrate. Then, an extension of Michaelis-Menten introducing a lag phase in the beginning. An last a Michaelis-Menten kinetic for 2 identical substrates.  \n",
    "The residual function introduces an additional bias parameter."
   ]
  },
  {
   "cell_type": "code",
   "execution_count": 7,
   "id": "01c7d097",
   "metadata": {},
   "outputs": [],
   "source": [
    "def irreversible_Michaelis_Menten(w, t, params):\n",
    "    '''\n",
    "    Kinetic equation according to Michaelis-Menten, \n",
    "    with the Michaelis-Menten constant K_M and v_max as as parameters.\n",
    "    Arguments:\n",
    "        w: vector with initial value = [s0]\n",
    "        t: vector with time-steps\n",
    "        parameters: parameters object from lmfit\n",
    "    '''\n",
    "    S = w[0]\n",
    "\n",
    "    v_max = params['v_max'].value\n",
    "    K_M = params['K_M'].value\n",
    "\n",
    "    dS = -v_max * S/(K_M + S)\n",
    "    return dS\n",
    "\n",
    "def irreversible_Michaelis_Menten_with_lag(w, t, params):\n",
    "    '''\n",
    "    Kinetic equation according to Michaelis-Menten,\n",
    "    extended by a term for a lag phase in the beginning,\n",
    "    with the Michaelis-Menten constant K_M and v_max and a as as parameters.\n",
    "    Arguments:\n",
    "        w: vector with initial values = [s0, v0]\n",
    "        t: vector with time-steps\n",
    "        parameters: parameters object from lmfit\n",
    "    '''\n",
    "    S = w[0]\n",
    "    v = w[1]\n",
    "\n",
    "    K_M = params['K_M'].value\n",
    "    v_max = params['v_max'].value\n",
    "    a = params['a'].value\n",
    "\n",
    "    dS = -v*S/(K_M + S)\n",
    "    dv = a*(v_max-v)\n",
    "\n",
    "    return (dS, dv)\n",
    "\n",
    "def irreversible_Michaelis_Menten_with_2substrates_with_lag(w, t, params):\n",
    "    '''\n",
    "    Kinetic equation according to Michaelis-Menten \n",
    "    for 2 identical substrates,\n",
    "    with k_i, k_s, v_max and a as as parameters.\n",
    "    Arguments:\n",
    "        w: vector with initial values = [s0, v0]\n",
    "        t: vector with time-steps\n",
    "        parameters: parameters object from lmfit\n",
    "    '''\n",
    "    S = w[0]\n",
    "    v = w[1]\n",
    "\n",
    "    k_i = params['K_i'].value\n",
    "    k_s = params['K_s'].value\n",
    "    v_max = params['v_max'].value\n",
    "    a = params['a'].value\n",
    "\n",
    "    dS = -v*S**2/(k_i*k_s + 2*k_s*S + S**2)\n",
    "    dv = a*(v_max-v)\n",
    "\n",
    "    return (dS, dv)"
   ]
  },
  {
   "cell_type": "code",
   "execution_count": 8,
   "id": "1c71528f",
   "metadata": {},
   "outputs": [],
   "source": [
    "def residual(params, t, data, f):\n",
    "    '''\n",
    "    Calculates residual between measured data and modelled data.\n",
    "    Arguments:\n",
    "        params: parameters object from lmfit\n",
    "        t: time\n",
    "        data: measured data\n",
    "        f: ODEs\n",
    "    '''\n",
    "    try:\n",
    "        w = params['S_0'].value, params['v_0'].value\n",
    "    except KeyError:\n",
    "        w = params['S_0'].value\n",
    "    bias = params['bias'].value\n",
    "    ndata = data.shape[0]\n",
    "    residual = 0.0*data[:]\n",
    "    for i in range(ndata):\n",
    "        s_modelled = odeint(f, w, t, args=(params,))\n",
    "        s_modelled = s_modelled[:,0]\n",
    "        residual[i,:]= data[i,:] - (s_modelled + bias)\n",
    "    return residual.flatten()"
   ]
  },
  {
   "cell_type": "markdown",
   "id": "8fc94abe",
   "metadata": {},
   "source": [
    "### Initialising parameters \n",
    "The Python library lmfit provides a parameter object to initialise the parameters before the fit."
   ]
  },
  {
   "cell_type": "code",
   "execution_count": 9,
   "id": "cd2540b2",
   "metadata": {},
   "outputs": [],
   "source": [
    "s_0 = round(np.mean(time_course_data, axis=0)[0],4)\n",
    "slope, intercept, r, p, se = stats.linregress(time, time_course_data[0])\n",
    "v_max = round(abs(slope), 4)\n",
    "bias = round(np.mean(time_course_data, axis=0)[-1],4)"
   ]
  },
  {
   "cell_type": "code",
   "execution_count": 10,
   "id": "af17ec42",
   "metadata": {},
   "outputs": [],
   "source": [
    "# Parameters for irreversible Michaelis-Menten without lag or bias\n",
    "params_MM = Parameters()\n",
    "params_MM.add('S_0', value=s_0, min=0.1, max=s_0+0.2*s_0)\n",
    "params_MM.add('v_max', value=v_max, min=0.00001, max=10.)\n",
    "params_MM.add('K_M', value=s_0, min=0.00001, max=s_0*10)\n",
    "params_MM.add('bias', value=0, vary=False)\n",
    "\n",
    "# Parameters for Michaelis-Menten with bias\n",
    "params_with_bias = Parameters()\n",
    "params_with_bias.add('S_0', value=s_0-bias, min=0.1, max=s_0+0.2*s_0)\n",
    "params_with_bias.add('bias', value=bias, min=0.0001, max=s_0*0.5)\n",
    "params_with_bias.add('v_max', value=v_max, min=0.00001, max=10.)\n",
    "params_with_bias.add('K_M', value=s_0, min=0.00001, max=s_0*10)"
   ]
  },
  {
   "cell_type": "code",
   "execution_count": 11,
   "id": "670c3b18",
   "metadata": {},
   "outputs": [],
   "source": [
    "\n",
    "# Parameters for Michaelis-Menten with lag\n",
    "params_with_lag = Parameters()\n",
    "params_with_lag.add('v_0', value=0, vary=False)\n",
    "params_with_lag.add('S_0', value=s_0, min=0.1, max=s_0+0.2*s_0)\n",
    "params_with_lag.add('a', value=1., min=0.0001, max=10.)\n",
    "params_with_lag.add('v_max', value=v_max, min=0.0001, max=10.)\n",
    "params_with_lag.add('K_M', value=s_0, min=0.0001, max=s_0*10)\n",
    "params_with_lag.add('bias', value=0, vary=False)\n",
    "\n",
    "# Parameters for Michaelis-Menten with lag and bias\n",
    "params_with_lag_bias = Parameters()\n",
    "params_with_lag_bias.add('v_0', value=0, vary=False)\n",
    "params_with_lag_bias.add('S_0', value=s_0-bias, min=0.1, max=s_0)\n",
    "params_with_lag_bias.add('bias', value=bias, min=0.001, max=s_0*0.5)\n",
    "params_with_lag_bias.add('a', value=1., min=0.0001, max=10.)\n",
    "params_with_lag_bias.add('v_max', value=v_max, min=0.0001, max=10.)\n",
    "params_with_lag_bias.add('K_M', value=s_0, min=0.0001, max=s_0*10)"
   ]
  },
  {
   "cell_type": "code",
   "execution_count": 12,
   "id": "26971560",
   "metadata": {},
   "outputs": [],
   "source": [
    "# Parameters for Michaelis-Menten with 2 substrates and lag and bias\n",
    "params_MM_2S_lag_b = Parameters()\n",
    "params_MM_2S_lag_b.add('S_0', value=s_0, min=0.1, max=s_0+0.2*s_0)\n",
    "params_MM_2S_lag_b.add('v_max', value=v_max, min=0.0001, max=10.)\n",
    "params_MM_2S_lag_b.add('v_0', value=0, vary=False)\n",
    "params_MM_2S_lag_b.add('a', value=1., min=0.0001, max=10.)\n",
    "params_MM_2S_lag_b.add('K_s', value=s_0, min=0.0001, max=s_0*10)\n",
    "params_MM_2S_lag_b.add('K_i', value=s_0, min=0.0001, max=s_0*10)\n",
    "params_MM_2S_lag_b.add('bias', value=bias, min=0.001, max=s_0*0.5)"
   ]
  },
  {
   "cell_type": "markdown",
   "id": "07ebd3f9",
   "metadata": {},
   "source": [
    "### Parameter fitting\n",
    "In the next cell the parameters for all models are fitted against the measured data and the results are stored in a dictionary."
   ]
  },
  {
   "cell_type": "code",
   "execution_count": 13,
   "id": "b500e3c6",
   "metadata": {},
   "outputs": [],
   "source": [
    "results_dict = {}\n",
    "# model 1: irreversible Michaelis-Menten\n",
    "result_MM = minimize(residual, params_MM, args=(time, time_course_data, irreversible_Michaelis_Menten), method='leastsq')\n",
    "results_dict['irreversible Michaelis-Menten'] = result_MM\n",
    "\n",
    "# model 2: Michaelis-Menten with bias\n",
    "result_MM_with_bias = minimize(residual, params_with_bias, args=(time, time_course_data, irreversible_Michaelis_Menten), method='leastsq')\n",
    "results_dict['irrev. Michaelis-Menten with bias'] = result_MM_with_bias\n",
    "\n",
    "# model 3: Michaelis-Menten with lag\n",
    "result_MM_with_lag = minimize(residual, params_with_lag, args=(time, time_course_data, irreversible_Michaelis_Menten_with_lag), method='leastsq')\n",
    "results_dict['irrev. Michaelis-Menten with lag'] = result_MM_with_lag\n",
    "\n",
    "# model 4: Michaelis-Menten with lag and bias\n",
    "result_with_lag_bias = minimize(residual, params_with_lag_bias, args=(time, time_course_data, irreversible_Michaelis_Menten_with_lag), method='leastsq')\n",
    "results_dict['irrev. Michaelis-Menten with lag and bias'] = result_with_lag_bias\n",
    "\n",
    "# model 5: Michaelis-Menten with 2 substrates and lag and bias\n",
    "result_2substrates_with_lag_bias = minimize(residual, params_MM_2S_lag_b, args=(time, time_course_data, irreversible_Michaelis_Menten_with_2substrates_with_lag), method='leastsq')\n",
    "results_dict['irrev. Michaelis-Menten with 2 substrates'] = result_2substrates_with_lag_bias"
   ]
  },
  {
   "cell_type": "markdown",
   "id": "61389b03",
   "metadata": {},
   "source": [
    "### Results Model 1\n",
    "The output of the next cell shows the results from the residual minimisation done by lmfit. Followed by a plot containing the measured data and the curve with the estimated parameters for model 1."
   ]
  },
  {
   "cell_type": "code",
   "execution_count": 14,
   "id": "39c0fa01",
   "metadata": {},
   "outputs": [
    {
     "name": "stdout",
     "output_type": "stream",
     "text": [
      "[[Fit Statistics]]\n",
      "    # fitting method   = leastsq\n",
      "    # function evals   = 44\n",
      "    # data points      = 180\n",
      "    # variables        = 3\n",
      "    chi-square         = 0.13461328\n",
      "    reduced chi-square = 7.6053e-04\n",
      "    Akaike info crit   = -1289.69509\n",
      "    Bayesian info crit = -1280.11622\n",
      "[[Variables]]\n",
      "    S_0:    1.03341902 +/- 0.00544760 (0.53%) (init = 0.9781)\n",
      "    v_max:  0.26204784 +/- 0.00754536 (2.88%) (init = 0.2034)\n",
      "    K_M:    0.09591097 +/- 0.01488774 (15.52%) (init = 0.9781)\n",
      "    bias:   0 (fixed)\n",
      "[[Correlations]] (unreported correlations are < 0.100)\n",
      "    C(v_max, K_M) = 0.962\n",
      "    C(S_0, v_max) = 0.745\n",
      "    C(S_0, K_M)   = 0.581\n"
     ]
    },
    {
     "data": {
      "image/png": "[encoded data removed]",
      "text/plain": [
       "<Figure size 432x288 with 1 Axes>"
      ]
     },
     "metadata": {
      "needs_background": "light"
     },
     "output_type": "display_data"
    }
   ],
   "source": [
    "result = results_dict['irreversible Michaelis-Menten']\n",
    "report_fit(result)\n",
    "w0 = result.params['S_0'].value\n",
    "data_fitted = odeint(irreversible_Michaelis_Menten, w0, time, args=(result.params,))\n",
    "plt.figure()\n",
    "ax = plt.subplot()\n",
    "for i in range(time_course_data.shape[0]):\n",
    "    ax.plot(time, time_course_data[i, :], 'o', ms=3, color='#377eb8')\n",
    "ax.plot(time, data_fitted[:], '-', linewidth=2, color='#e31a1c')\n",
    "ax.set_xlabel('time ['+time_unit+']')\n",
    "ax.set_ylabel('absorbance')\n",
    "plt.title('irreversible Michaelis-Menten')\n",
    "# save as svg\n",
    "# plt.savefig('model1.svg', bbox_inches='tight')\n",
    "plt.show()"
   ]
  },
  {
   "cell_type": "markdown",
   "id": "fd0cebaa",
   "metadata": {},
   "source": [
    "### Results Model 2\n",
    "The output of the next cell shows the results from the residual minimisation done by lmfit. Followed by a plot containing the measured data and the curve with the estimated parameters for model 2."
   ]
  },
  {
   "cell_type": "code",
   "execution_count": 15,
   "id": "3bfa7a70",
   "metadata": {},
   "outputs": [
    {
     "name": "stdout",
     "output_type": "stream",
     "text": [
      "[[Fit Statistics]]\n",
      "    # fitting method   = leastsq\n",
      "    # function evals   = 84\n",
      "    # data points      = 180\n",
      "    # variables        = 4\n",
      "    chi-square         = 0.08045348\n",
      "    reduced chi-square = 4.5712e-04\n",
      "    Akaike info crit   = -1380.34595\n",
      "    Bayesian info crit = -1367.57412\n",
      "[[Variables]]\n",
      "    S_0:    0.91873842 +/- 0.00556701 (0.61%) (init = 0.8834)\n",
      "    bias:   0.10519450 +/- 0.00390504 (3.71%) (init = 0.0947)\n",
      "    v_max:  0.22527539 +/- 0.00322714 (1.43%) (init = 0.2034)\n",
      "    K_M:    0.00172692 +/- 0.00406302 (235.28%) (init = 0.9781)\n",
      "[[Correlations]] (unreported correlations are < 0.100)\n",
      "    C(v_max, K_M) = 0.888\n",
      "    C(S_0, bias)  = -0.711\n",
      "    C(S_0, v_max) = 0.563\n",
      "    C(S_0, K_M)   = 0.367\n"
     ]
    },
    {
     "data": {
      "image/png": "[encoded data removed]",
      "text/plain": [
       "<Figure size 432x288 with 1 Axes>"
      ]
     },
     "metadata": {
      "needs_background": "light"
     },
     "output_type": "display_data"
    }
   ],
   "source": [
    "result = results_dict['irrev. Michaelis-Menten with bias']\n",
    "report_fit(result)\n",
    "w0 = result.params['S_0'].value\n",
    "data_fitted = odeint(irreversible_Michaelis_Menten, w0, time, args=(result.params,))\n",
    "plt.figure()\n",
    "ax = plt.subplot()\n",
    "for i in range(time_course_data.shape[0]):\n",
    "    ax.plot(time, time_course_data[i, :], 'o', ms=3, color='#377eb8')\n",
    "ax.plot(time, data_fitted[:]+result.params['bias'].value, '-', linewidth=2, color='#e31a1c')\n",
    "ax.set_xlabel('time ['+time_unit+']')\n",
    "ax.set_ylabel('absorbance')\n",
    "plt.title('irreversible Michaelis-Menten with bias')\n",
    "# save as svg\n",
    "# plt.savefig('model2.svg', bbox_inches='tight')\n",
    "plt.show()"
   ]
  },
  {
   "cell_type": "markdown",
   "id": "7b843ce7",
   "metadata": {},
   "source": [
    "### Results Model 3\n",
    "The output of the next cell shows the results from the residual minimisation done by lmfit. Followed by a plot containing the measured data and the curve with the estimated parameters for model 3."
   ]
  },
  {
   "cell_type": "code",
   "execution_count": 16,
   "id": "ae6a209d",
   "metadata": {},
   "outputs": [
    {
     "name": "stdout",
     "output_type": "stream",
     "text": [
      "[[Fit Statistics]]\n",
      "    # fitting method   = leastsq\n",
      "    # function evals   = 225\n",
      "    # data points      = 180\n",
      "    # variables        = 4\n",
      "    chi-square         = 0.05793438\n",
      "    reduced chi-square = 3.2917e-04\n",
      "    Akaike info crit   = -1439.45220\n",
      "    Bayesian info crit = -1426.68037\n",
      "[[Variables]]\n",
      "    v_0:    0 (fixed)\n",
      "    S_0:    0.95065756 +/- 0.00409313 (0.43%) (init = 0.9781)\n",
      "    a:      0.85685357 +/- 0.16152914 (18.85%) (init = 1)\n",
      "    v_max:  0.59389031 +/- 0.12514705 (21.07%) (init = 0.2034)\n",
      "    K_M:    0.50293833 +/- 0.14107303 (28.05%) (init = 0.9781)\n",
      "    bias:   0 (fixed)\n",
      "[[Correlations]] (unreported correlations are < 0.100)\n",
      "    C(v_max, K_M) = 0.995\n",
      "    C(a, v_max)   = -0.979\n",
      "    C(a, K_M)     = -0.956\n",
      "    C(S_0, a)     = 0.642\n",
      "    C(S_0, v_max) = -0.534\n",
      "    C(S_0, K_M)   = -0.492\n"
     ]
    },
    {
     "data": {
      "image/png": "[encoded data removed]",
      "text/plain": [
       "<Figure size 432x288 with 1 Axes>"
      ]
     },
     "metadata": {
      "needs_background": "light"
     },
     "output_type": "display_data"
    }
   ],
   "source": [
    "result = results_dict['irrev. Michaelis-Menten with lag']\n",
    "report_fit(result)\n",
    "w0 = result.params['S_0'].value, result.params['v_0'].value\n",
    "data_fitted = odeint(irreversible_Michaelis_Menten_with_lag, w0, time, args=(result.params,))\n",
    "plt.figure()\n",
    "ax = plt.subplot()\n",
    "for i in range(time_course_data.shape[0]):\n",
    "    ax.plot(time, time_course_data[i, :], 'o', ms=3, color='#377eb8')\n",
    "ax.plot(time, data_fitted[:,0]+result.params['bias'].value, '-', linewidth=2, color='#e31a1c')\n",
    "ax.set_xlabel('time ['+time_unit+']')\n",
    "ax.set_ylabel('absorbance')\n",
    "plt.title('irreversible Michaelis-Menten with lag')\n",
    "# save as svg\n",
    "# plt.savefig('model3.svg', bbox_inches='tight')\n",
    "plt.show()"
   ]
  },
  {
   "cell_type": "markdown",
   "id": "b30f0b5c",
   "metadata": {},
   "source": [
    "### Results Model 4\n",
    "The output of the next cell shows the results from the residual minimisation done by lmfit. Followed by a plot containing the measured data and the curve with the estimated parameters for model 4."
   ]
  },
  {
   "cell_type": "code",
   "execution_count": 17,
   "id": "8d4d564b",
   "metadata": {},
   "outputs": [
    {
     "name": "stdout",
     "output_type": "stream",
     "text": [
      "[[Fit Statistics]]\n",
      "    # fitting method   = leastsq\n",
      "    # function evals   = 137\n",
      "    # data points      = 180\n",
      "    # variables        = 5\n",
      "    chi-square         = 0.04123927\n",
      "    reduced chi-square = 2.3565e-04\n",
      "    Akaike info crit   = -1498.63781\n",
      "    Bayesian info crit = -1482.67303\n",
      "[[Variables]]\n",
      "    v_0:    0 (fixed)\n",
      "    S_0:    0.86085354 +/- 0.00534286 (0.62%) (init = 0.8834)\n",
      "    bias:   0.09725107 +/- 0.00436842 (4.49%) (init = 0.0947)\n",
      "    a:      1.69790320 +/- 0.15517747 (9.14%) (init = 1)\n",
      "    v_max:  0.28159278 +/- 0.01082176 (3.84%) (init = 0.2034)\n",
      "    K_M:    0.04761795 +/- 0.01094513 (22.99%) (init = 0.9781)\n",
      "[[Correlations]] (unreported correlations are < 0.100)\n",
      "    C(v_max, K_M)  = 0.947\n",
      "    C(a, v_max)    = -0.895\n",
      "    C(a, K_M)      = -0.743\n",
      "    C(S_0, bias)   = -0.736\n",
      "    C(bias, K_M)   = -0.638\n",
      "    C(bias, v_max) = -0.505\n",
      "    C(bias, a)     = 0.333\n",
      "    C(S_0, K_M)    = 0.312\n",
      "    C(S_0, a)      = 0.211\n",
      "    C(S_0, v_max)  = 0.122\n"
     ]
    },
    {
     "data": {
      "image/png": "[encoded data removed]",
      "text/plain": [
       "<Figure size 432x288 with 1 Axes>"
      ]
     },
     "metadata": {
      "needs_background": "light"
     },
     "output_type": "display_data"
    }
   ],
   "source": [
    "result = results_dict['irrev. Michaelis-Menten with lag and bias']\n",
    "report_fit(result)\n",
    "w0 = result.params['S_0'].value, result.params['v_0'].value\n",
    "data_fitted = odeint(irreversible_Michaelis_Menten_with_lag, w0, time, args=(result.params,))\n",
    "plt.figure()\n",
    "ax = plt.subplot()\n",
    "for i in range(time_course_data.shape[0]):\n",
    "    ax.plot(time, time_course_data[i, :], 'o', ms=3, color='#377eb8')\n",
    "ax.plot(time, data_fitted[:,0]+result.params['bias'].value, '-', linewidth=2, color='#e31a1c')\n",
    "ax.set_xlabel('time ['+time_unit+']')\n",
    "ax.set_ylabel('absorbance')\n",
    "plt.title('irreversible Michaelis-Menten with lag and bias')\n",
    "# save as svg\n",
    "# plt.savefig('model4.svg', bbox_inches='tight')\n",
    "plt.show()"
   ]
  },
  {
   "cell_type": "markdown",
   "id": "766764bb",
   "metadata": {},
   "source": [
    "### Results Model 5\n",
    "The output of the next cell shows the results from the residual minimisation done by lmfit. Followed by a plot containing the measured data and the curve with the estimated parameters for model 5."
   ]
  },
  {
   "cell_type": "code",
   "execution_count": 18,
   "id": "4d4d57d8",
   "metadata": {},
   "outputs": [
    {
     "name": "stdout",
     "output_type": "stream",
     "text": [
      "[[Fit Statistics]]\n",
      "    # fitting method   = leastsq\n",
      "    # function evals   = 996\n",
      "    # data points      = 180\n",
      "    # variables        = 6\n",
      "    chi-square         = 0.04049604\n",
      "    reduced chi-square = 2.3274e-04\n",
      "    Akaike info crit   = -1499.91142\n",
      "    Bayesian info crit = -1480.75368\n",
      "[[Variables]]\n",
      "    S_0:    0.88452560 +/- 0.02033698 (2.30%) (init = 0.9781)\n",
      "    v_max:  0.25598255 +/- 0.02517473 (9.83%) (init = 0.2034)\n",
      "    v_0:    0 (fixed)\n",
      "    a:      1.91322966 +/- 0.26810911 (14.01%) (init = 1)\n",
      "    K_s:    4.9125e-04 +/- 0.02545279 (5181.25%) (init = 0.9781)\n",
      "    K_i:    9.77992099 +/- 319.069713 (3262.50%) (init = 0.9781)\n",
      "    bias:   0.07520560 +/- 0.01915032 (25.46%) (init = 0.0947)\n",
      "[[Correlations]] (unreported correlations are < 0.100)\n",
      "    C(K_s, K_i)    = -1.000\n",
      "    C(S_0, bias)   = -0.982\n",
      "    C(v_max, K_s)  = 0.976\n",
      "    C(v_max, K_i)  = -0.975\n",
      "    C(S_0, K_i)    = 0.895\n",
      "    C(v_max, a)    = -0.895\n",
      "    C(S_0, K_s)    = -0.893\n",
      "    C(K_i, bias)   = -0.883\n",
      "    C(K_s, bias)   = 0.880\n",
      "    C(S_0, v_max)  = -0.822\n",
      "    C(a, K_s)      = -0.795\n",
      "    C(a, K_i)      = 0.792\n",
      "    C(v_max, bias) = 0.789\n",
      "    C(S_0, a)      = 0.663\n",
      "    C(a, bias)     = -0.564\n"
     ]
    },
    {
     "data": {
      "image/png": "[encoded data removed]",
      "text/plain": [
       "<Figure size 432x288 with 1 Axes>"
      ]
     },
     "metadata": {
      "needs_background": "light"
     },
     "output_type": "display_data"
    }
   ],
   "source": [
    "result = results_dict['irrev. Michaelis-Menten with 2 substrates']\n",
    "report_fit(result)\n",
    "w0 = result.params['S_0'].value, result.params['v_0'].value\n",
    "data_fitted = odeint(irreversible_Michaelis_Menten_with_2substrates_with_lag, w0, time, args=(result.params,))\n",
    "plt.figure()\n",
    "ax = plt.subplot()\n",
    "for i in range(time_course_data.shape[0]):\n",
    "    ax.plot(time, time_course_data[i, :], 'o', ms=3, color='#377eb8')\n",
    "ax.plot(time, data_fitted[:,0]+result.params['bias'].value, '-', linewidth=2, color='#e31a1c')\n",
    "ax.set_xlabel('time ['+time_unit+']')\n",
    "ax.set_ylabel('absorbance')\n",
    "plt.title('irreversible Michaelis-Menten with 2 substrates and lag and bias')\n",
    "# save as svg\n",
    "# plt.savefig('model5.svg', bbox_inches='tight')\n",
    "plt.show()"
   ]
  },
  {
   "cell_type": "markdown",
   "id": "8c185aba",
   "metadata": {},
   "source": [
    "### Table with estimated parameters for all models"
   ]
  },
  {
   "cell_type": "code",
   "execution_count": 19,
   "id": "76ef1c2c",
   "metadata": {},
   "outputs": [
    {
     "data": {
      "text/html": [
       "<div>\n",
       "<style scoped>\n",
       "    .dataframe tbody tr th:only-of-type {\n",
       "        vertical-align: middle;\n",
       "    }\n",
       "\n",
       "    .dataframe tbody tr th {\n",
       "        vertical-align: top;\n",
       "    }\n",
       "\n",
       "    .dataframe thead th {\n",
       "        text-align: right;\n",
       "    }\n",
       "</style>\n",
       "<table border=\"1\" class=\"dataframe\">\n",
       "  <thead>\n",
       "    <tr style=\"text-align: right;\">\n",
       "      <th></th>\n",
       "      <th>irreversible Michaelis-Menten</th>\n",
       "      <th>irrev. Michaelis-Menten with bias</th>\n",
       "      <th>irrev. Michaelis-Menten with lag</th>\n",
       "      <th>irrev. Michaelis-Menten with lag and bias</th>\n",
       "      <th>irrev. Michaelis-Menten with 2 substrates</th>\n",
       "    </tr>\n",
       "  </thead>\n",
       "  <tbody>\n",
       "    <tr>\n",
       "      <th>S_0</th>\n",
       "      <td>1.033</td>\n",
       "      <td>0.919</td>\n",
       "      <td>0.951</td>\n",
       "      <td>0.861</td>\n",
       "      <td>0.885</td>\n",
       "    </tr>\n",
       "    <tr>\n",
       "      <th>v_max</th>\n",
       "      <td>0.262</td>\n",
       "      <td>0.225</td>\n",
       "      <td>0.594</td>\n",
       "      <td>0.282</td>\n",
       "      <td>0.256</td>\n",
       "    </tr>\n",
       "    <tr>\n",
       "      <th>K_M</th>\n",
       "      <td>0.096</td>\n",
       "      <td>0.002</td>\n",
       "      <td>0.503</td>\n",
       "      <td>0.048</td>\n",
       "      <td>NaN</td>\n",
       "    </tr>\n",
       "    <tr>\n",
       "      <th>bias</th>\n",
       "      <td>0.000</td>\n",
       "      <td>0.105</td>\n",
       "      <td>0.000</td>\n",
       "      <td>0.097</td>\n",
       "      <td>0.075</td>\n",
       "    </tr>\n",
       "    <tr>\n",
       "      <th>v_0</th>\n",
       "      <td>NaN</td>\n",
       "      <td>NaN</td>\n",
       "      <td>0.000</td>\n",
       "      <td>0.000</td>\n",
       "      <td>0.000</td>\n",
       "    </tr>\n",
       "    <tr>\n",
       "      <th>a</th>\n",
       "      <td>NaN</td>\n",
       "      <td>NaN</td>\n",
       "      <td>0.857</td>\n",
       "      <td>1.698</td>\n",
       "      <td>1.913</td>\n",
       "    </tr>\n",
       "    <tr>\n",
       "      <th>K_s</th>\n",
       "      <td>NaN</td>\n",
       "      <td>NaN</td>\n",
       "      <td>NaN</td>\n",
       "      <td>NaN</td>\n",
       "      <td>0.000</td>\n",
       "    </tr>\n",
       "    <tr>\n",
       "      <th>K_i</th>\n",
       "      <td>NaN</td>\n",
       "      <td>NaN</td>\n",
       "      <td>NaN</td>\n",
       "      <td>NaN</td>\n",
       "      <td>9.780</td>\n",
       "    </tr>\n",
       "  </tbody>\n",
       "</table>\n",
       "</div>"
      ],
      "text/plain": [
       "       irreversible Michaelis-Menten  irrev. Michaelis-Menten with bias  \\\n",
       "S_0                            1.033                              0.919   \n",
       "v_max                          0.262                              0.225   \n",
       "K_M                            0.096                              0.002   \n",
       "bias                           0.000                              0.105   \n",
       "v_0                              NaN                                NaN   \n",
       "a                                NaN                                NaN   \n",
       "K_s                              NaN                                NaN   \n",
       "K_i                              NaN                                NaN   \n",
       "\n",
       "       irrev. Michaelis-Menten with lag  \\\n",
       "S_0                               0.951   \n",
       "v_max                             0.594   \n",
       "K_M                               0.503   \n",
       "bias                              0.000   \n",
       "v_0                               0.000   \n",
       "a                                 0.857   \n",
       "K_s                                 NaN   \n",
       "K_i                                 NaN   \n",
       "\n",
       "       irrev. Michaelis-Menten with lag and bias  \\\n",
       "S_0                                        0.861   \n",
       "v_max                                      0.282   \n",
       "K_M                                        0.048   \n",
       "bias                                       0.097   \n",
       "v_0                                        0.000   \n",
       "a                                          1.698   \n",
       "K_s                                          NaN   \n",
       "K_i                                          NaN   \n",
       "\n",
       "       irrev. Michaelis-Menten with 2 substrates  \n",
       "S_0                                        0.885  \n",
       "v_max                                      0.256  \n",
       "K_M                                          NaN  \n",
       "bias                                       0.075  \n",
       "v_0                                        0.000  \n",
       "a                                          1.913  \n",
       "K_s                                        0.000  \n",
       "K_i                                        9.780  "
      ]
     },
     "execution_count": 19,
     "metadata": {},
     "output_type": "execute_result"
    }
   ],
   "source": [
    "models_dataframe = pd.DataFrame()\n",
    "for model_name, model_result in results_dict.items():\n",
    "    for parameter_name, parameter_value in model_result.params.valuesdict().items():\n",
    "        models_dataframe.loc[parameter_name,model_name] = round(parameter_value,3)\n",
    "models_dataframe"
   ]
  },
  {
   "cell_type": "markdown",
   "id": "b9547c25",
   "metadata": {},
   "source": [
    "## Conversion from absorbance to concentration \n",
    "All estimated parameters are still derived from light absorption. To be comparable, S<sub>0</sub>, bias and K<sub>M</sub> are converted to concentration in mmol/L by getting divided by the molar extinction coefficient of pyruvate of 24.8 L*cm/mol and multiplied by the factor 1000 and afterwards mapped in a table."
   ]
  },
  {
   "cell_type": "code",
   "execution_count": 20,
   "id": "52e671a9",
   "metadata": {},
   "outputs": [
    {
     "data": {
      "text/html": [
       "<div>\n",
       "<style scoped>\n",
       "    .dataframe tbody tr th:only-of-type {\n",
       "        vertical-align: middle;\n",
       "    }\n",
       "\n",
       "    .dataframe tbody tr th {\n",
       "        vertical-align: top;\n",
       "    }\n",
       "\n",
       "    .dataframe thead th {\n",
       "        text-align: right;\n",
       "    }\n",
       "</style>\n",
       "<table border=\"1\" class=\"dataframe\">\n",
       "  <thead>\n",
       "    <tr style=\"text-align: right;\">\n",
       "      <th></th>\n",
       "      <th>irreversible Michaelis-Menten</th>\n",
       "      <th>irrev. Michaelis-Menten with bias</th>\n",
       "      <th>irrev. Michaelis-Menten with lag</th>\n",
       "      <th>irrev. Michaelis-Menten with lag and bias</th>\n",
       "      <th>irrev. Michaelis-Menten with 2 substrates</th>\n",
       "    </tr>\n",
       "  </thead>\n",
       "  <tbody>\n",
       "    <tr>\n",
       "      <th>S_0</th>\n",
       "      <td>41.65</td>\n",
       "      <td>37.06</td>\n",
       "      <td>38.35</td>\n",
       "      <td>34.72</td>\n",
       "      <td>35.69</td>\n",
       "    </tr>\n",
       "    <tr>\n",
       "      <th>v_max</th>\n",
       "      <td>10.56</td>\n",
       "      <td>9.07</td>\n",
       "      <td>23.95</td>\n",
       "      <td>11.37</td>\n",
       "      <td>10.32</td>\n",
       "    </tr>\n",
       "    <tr>\n",
       "      <th>K_M</th>\n",
       "      <td>3.87</td>\n",
       "      <td>0.08</td>\n",
       "      <td>20.28</td>\n",
       "      <td>1.94</td>\n",
       "      <td>NaN</td>\n",
       "    </tr>\n",
       "    <tr>\n",
       "      <th>bias</th>\n",
       "      <td>0.00</td>\n",
       "      <td>4.23</td>\n",
       "      <td>0.00</td>\n",
       "      <td>3.91</td>\n",
       "      <td>3.02</td>\n",
       "    </tr>\n",
       "    <tr>\n",
       "      <th>v_0</th>\n",
       "      <td>NaN</td>\n",
       "      <td>NaN</td>\n",
       "      <td>0.00</td>\n",
       "      <td>0.00</td>\n",
       "      <td>0.00</td>\n",
       "    </tr>\n",
       "    <tr>\n",
       "      <th>a</th>\n",
       "      <td>NaN</td>\n",
       "      <td>NaN</td>\n",
       "      <td>34.56</td>\n",
       "      <td>68.47</td>\n",
       "      <td>77.14</td>\n",
       "    </tr>\n",
       "    <tr>\n",
       "      <th>K_s</th>\n",
       "      <td>NaN</td>\n",
       "      <td>NaN</td>\n",
       "      <td>NaN</td>\n",
       "      <td>NaN</td>\n",
       "      <td>0.00</td>\n",
       "    </tr>\n",
       "    <tr>\n",
       "      <th>K_i</th>\n",
       "      <td>NaN</td>\n",
       "      <td>NaN</td>\n",
       "      <td>NaN</td>\n",
       "      <td>NaN</td>\n",
       "      <td>394.35</td>\n",
       "    </tr>\n",
       "  </tbody>\n",
       "</table>\n",
       "</div>"
      ],
      "text/plain": [
       "       irreversible Michaelis-Menten  irrev. Michaelis-Menten with bias  \\\n",
       "S_0                            41.65                              37.06   \n",
       "v_max                          10.56                               9.07   \n",
       "K_M                             3.87                               0.08   \n",
       "bias                            0.00                               4.23   \n",
       "v_0                              NaN                                NaN   \n",
       "a                                NaN                                NaN   \n",
       "K_s                              NaN                                NaN   \n",
       "K_i                              NaN                                NaN   \n",
       "\n",
       "       irrev. Michaelis-Menten with lag  \\\n",
       "S_0                               38.35   \n",
       "v_max                             23.95   \n",
       "K_M                               20.28   \n",
       "bias                               0.00   \n",
       "v_0                                0.00   \n",
       "a                                 34.56   \n",
       "K_s                                 NaN   \n",
       "K_i                                 NaN   \n",
       "\n",
       "       irrev. Michaelis-Menten with lag and bias  \\\n",
       "S_0                                        34.72   \n",
       "v_max                                      11.37   \n",
       "K_M                                         1.94   \n",
       "bias                                        3.91   \n",
       "v_0                                         0.00   \n",
       "a                                          68.47   \n",
       "K_s                                          NaN   \n",
       "K_i                                          NaN   \n",
       "\n",
       "       irrev. Michaelis-Menten with 2 substrates  \n",
       "S_0                                        35.69  \n",
       "v_max                                      10.32  \n",
       "K_M                                          NaN  \n",
       "bias                                        3.02  \n",
       "v_0                                         0.00  \n",
       "a                                          77.14  \n",
       "K_s                                         0.00  \n",
       "K_i                                       394.35  "
      ]
     },
     "execution_count": 20,
     "metadata": {},
     "output_type": "execute_result"
    }
   ],
   "source": [
    "models_dataframe_concentration1 = round(models_dataframe/24.8*1000,2)\n",
    "models_dataframe_concentration1"
   ]
  },
  {
   "cell_type": "markdown",
   "id": "14bf6e1d",
   "metadata": {},
   "source": [
    "__Calculation of extinction coefficient__  \n",
    "An alternative extinction coefficient is computed from the given initial concentration of the substrate and the estimated parameter for S<sub>0</sub> from model 4 with the formula: $\\epsilon = \\frac{A}{c \\cdot d}$ with $A = S_0 + bias$."
   ]
  },
  {
   "cell_type": "code",
   "execution_count": 21,
   "id": "77ba4fb5",
   "metadata": {},
   "outputs": [
    {
     "name": "stdout",
     "output_type": "stream",
     "text": [
      "New extinction coefficient: 19.2 (cm L/mol)\n"
     ]
    }
   ],
   "source": [
    "epsilon = round((result_with_lag_bias.params['S_0'].value+result_with_lag_bias.params['bias'].value)/(50)*1000,1)\n",
    "print('New extinction coefficient: '+str(epsilon)+' (cm L/mol)')"
   ]
  },
  {
   "cell_type": "code",
   "execution_count": 22,
   "id": "34d81788",
   "metadata": {},
   "outputs": [
    {
     "data": {
      "text/html": [
       "<div>\n",
       "<style scoped>\n",
       "    .dataframe tbody tr th:only-of-type {\n",
       "        vertical-align: middle;\n",
       "    }\n",
       "\n",
       "    .dataframe tbody tr th {\n",
       "        vertical-align: top;\n",
       "    }\n",
       "\n",
       "    .dataframe thead th {\n",
       "        text-align: right;\n",
       "    }\n",
       "</style>\n",
       "<table border=\"1\" class=\"dataframe\">\n",
       "  <thead>\n",
       "    <tr style=\"text-align: right;\">\n",
       "      <th></th>\n",
       "      <th>irreversible Michaelis-Menten</th>\n",
       "      <th>irrev. Michaelis-Menten with bias</th>\n",
       "      <th>irrev. Michaelis-Menten with lag</th>\n",
       "      <th>irrev. Michaelis-Menten with lag and bias</th>\n",
       "      <th>irrev. Michaelis-Menten with 2 substrates</th>\n",
       "    </tr>\n",
       "  </thead>\n",
       "  <tbody>\n",
       "    <tr>\n",
       "      <th>S_0</th>\n",
       "      <td>53.80</td>\n",
       "      <td>47.86</td>\n",
       "      <td>49.53</td>\n",
       "      <td>44.84</td>\n",
       "      <td>46.09</td>\n",
       "    </tr>\n",
       "    <tr>\n",
       "      <th>v_max</th>\n",
       "      <td>13.65</td>\n",
       "      <td>11.72</td>\n",
       "      <td>30.94</td>\n",
       "      <td>14.69</td>\n",
       "      <td>13.33</td>\n",
       "    </tr>\n",
       "    <tr>\n",
       "      <th>K_M</th>\n",
       "      <td>5.00</td>\n",
       "      <td>0.10</td>\n",
       "      <td>26.20</td>\n",
       "      <td>2.50</td>\n",
       "      <td>NaN</td>\n",
       "    </tr>\n",
       "    <tr>\n",
       "      <th>bias</th>\n",
       "      <td>0.00</td>\n",
       "      <td>5.47</td>\n",
       "      <td>0.00</td>\n",
       "      <td>5.05</td>\n",
       "      <td>3.91</td>\n",
       "    </tr>\n",
       "    <tr>\n",
       "      <th>v_0</th>\n",
       "      <td>NaN</td>\n",
       "      <td>NaN</td>\n",
       "      <td>0.00</td>\n",
       "      <td>0.00</td>\n",
       "      <td>0.00</td>\n",
       "    </tr>\n",
       "    <tr>\n",
       "      <th>a</th>\n",
       "      <td>NaN</td>\n",
       "      <td>NaN</td>\n",
       "      <td>44.64</td>\n",
       "      <td>88.44</td>\n",
       "      <td>99.64</td>\n",
       "    </tr>\n",
       "    <tr>\n",
       "      <th>K_s</th>\n",
       "      <td>NaN</td>\n",
       "      <td>NaN</td>\n",
       "      <td>NaN</td>\n",
       "      <td>NaN</td>\n",
       "      <td>0.00</td>\n",
       "    </tr>\n",
       "    <tr>\n",
       "      <th>K_i</th>\n",
       "      <td>NaN</td>\n",
       "      <td>NaN</td>\n",
       "      <td>NaN</td>\n",
       "      <td>NaN</td>\n",
       "      <td>509.38</td>\n",
       "    </tr>\n",
       "  </tbody>\n",
       "</table>\n",
       "</div>"
      ],
      "text/plain": [
       "       irreversible Michaelis-Menten  irrev. Michaelis-Menten with bias  \\\n",
       "S_0                            53.80                              47.86   \n",
       "v_max                          13.65                              11.72   \n",
       "K_M                             5.00                               0.10   \n",
       "bias                            0.00                               5.47   \n",
       "v_0                              NaN                                NaN   \n",
       "a                                NaN                                NaN   \n",
       "K_s                              NaN                                NaN   \n",
       "K_i                              NaN                                NaN   \n",
       "\n",
       "       irrev. Michaelis-Menten with lag  \\\n",
       "S_0                               49.53   \n",
       "v_max                             30.94   \n",
       "K_M                               26.20   \n",
       "bias                               0.00   \n",
       "v_0                                0.00   \n",
       "a                                 44.64   \n",
       "K_s                                 NaN   \n",
       "K_i                                 NaN   \n",
       "\n",
       "       irrev. Michaelis-Menten with lag and bias  \\\n",
       "S_0                                        44.84   \n",
       "v_max                                      14.69   \n",
       "K_M                                         2.50   \n",
       "bias                                        5.05   \n",
       "v_0                                         0.00   \n",
       "a                                          88.44   \n",
       "K_s                                          NaN   \n",
       "K_i                                          NaN   \n",
       "\n",
       "       irrev. Michaelis-Menten with 2 substrates  \n",
       "S_0                                        46.09  \n",
       "v_max                                      13.33  \n",
       "K_M                                          NaN  \n",
       "bias                                        3.91  \n",
       "v_0                                         0.00  \n",
       "a                                          99.64  \n",
       "K_s                                         0.00  \n",
       "K_i                                       509.38  "
      ]
     },
     "execution_count": 22,
     "metadata": {},
     "output_type": "execute_result"
    }
   ],
   "source": [
    "models_dataframe_concentration2 = round(models_dataframe/epsilon*1000,2)\n",
    "models_dataframe_concentration2"
   ]
  },
  {
   "cell_type": "markdown",
   "id": "ca27aff5",
   "metadata": {},
   "source": [
    "## Upload to DaRUS\n",
    "Since this scenario is part of a momentarily written paper, it will be uploaded to a DataVerse on DaRUS, the data repository of the University of Stuttgart, and get a DOI. "
   ]
  }
 ],
 "metadata": {
  "interpreter": {
   "hash": "7c2992e9c105260cd776f00ce82eab482c82c43a5dc8a92fbccdfab19b1b40a5"
  },
  "kernelspec": {
   "display_name": "Python 3 (ipykernel)",
   "language": "python",
   "name": "python3"
  },
  "language_info": {
   "codemirror_mode": {
    "name": "ipython",
    "version": 3
   },
   "file_extension": ".py",
   "mimetype": "text/x-python",
   "name": "python",
   "nbconvert_exporter": "python",
   "pygments_lexer": "ipython3",
   "version": "3.9.10"
  }
 },
 "nbformat": 4,
 "nbformat_minor": 5
}
