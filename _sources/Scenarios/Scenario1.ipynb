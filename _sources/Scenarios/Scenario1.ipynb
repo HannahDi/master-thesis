{
 "cells": [
  {
   "cell_type": "markdown",
   "metadata": {},
   "source": [
    "# Scenario 1: Collecting data by BioCatHub and visualisation\n",
    "Dataset provided by Jan-Dirk Spöring (Institute of Bio- and Geosciences 1, Forschungszentrum Jülich, 52428 Jülich, Germany)  \n",
    "  \n",
    "This is a concise scenario to showcase one of our collaborators, [BioCatHub](https://biocathub.net) {cite}`biocathub_2020`.  \n",
    "For this, with the help of Stephan Malzacher, I created the dataset on the BioCatHub website from the data provided by Jan-Dirk Spöring and downloaded it in the EnzymeML data format. The following Jupyter Notebook will read the EnzymeML document and visualise the time-course data.  \n",
    "For this short scenario, no modelling is done."
   ]
  },
  {
   "cell_type": "markdown",
   "metadata": {},
   "source": [
    "## Imports\n",
    "First, all necessary Python packages must be installed and imported.  \n",
    "If you run this notebook with Binder, you don't have to install anything. Binder takes care of this.   \n",
    "If you run this notebook locally, make sure you have all Packages installed. All needed packages with the used version can be found in the `requirements.txt` in the root GitHub directory (not in `\\book`)."
   ]
  },
  {
   "cell_type": "code",
   "execution_count": 1,
   "metadata": {},
   "outputs": [],
   "source": [
    "import os\n",
    "import matplotlib.pyplot as plt\n",
    "from pyenzyme.enzymeml.core import EnzymeMLDocument"
   ]
  },
  {
   "cell_type": "markdown",
   "metadata": {},
   "source": [
    "## Reading EnzymeML with PyEnzyme software\n",
    "In order to read the EnzymeML document and access its content with the PyEnzyme software, the file path is defined.  \n",
    "If you want to run this Jupyter Notebook locally, make sure you have the same folder structure or change the path accordingly.  \n",
    "When running the following code cell, the EnzymeML document is saved in the `enzmlDoc` variable, and an overview is printed below."
   ]
  },
  {
   "cell_type": "code",
   "execution_count": 2,
   "metadata": {},
   "outputs": [
    {
     "name": "stdout",
     "output_type": "stream",
     "text": [
      "Sporing_Measurements\n",
      ">>> Reactants\n",
      "\tID: s0 \t Name: Propanal\n",
      "\tID: s1 \t Name: Propioin\n",
      ">>> Proteins\n",
      "\tID: p0 \t Name: Benzoin Aldolase\n",
      ">>> Complexes\n",
      ">>> Reactions\n",
      "\tID: r0 \t Name: Propioin synthesis\n"
     ]
    }
   ],
   "source": [
    "path = '../../data/Spoering_Measurements_orig.omex'\n",
    "\n",
    "# check for correct file path and file extension:\n",
    "if os.path.isfile(path) and os.path.basename(path).lower().endswith('.omex'):\n",
    "    enzmlDoc = EnzymeMLDocument.fromFile(path)\n",
    "    enzmlDoc.printDocument()\n",
    "else:\n",
    "    raise FileNotFoundError(\n",
    "        f'Couldnt find file at {path}.'\n",
    "    )"
   ]
  },
  {
   "cell_type": "markdown",
   "metadata": {},
   "source": [
    "The overview shows which reactant corresponds to which internal ID. These IDs can be used to access the species.  \n",
    "The conducted experiments are saved as measurements. These measurements contain information about the experiment conditions such as temperature and pH, initial concentration for all involved species and the measured time-course data. Here each measurement consists of 2 reactants and one protein (p0).\n",
    "Only one measurement was conducted and is examined in the following output."
   ]
  },
  {
   "cell_type": "code",
   "execution_count": 3,
   "metadata": {},
   "outputs": [
    {
     "name": "stdout",
     "output_type": "stream",
     "text": [
      ">>> Measurement m0: Propioin synthesis 1\n",
      "    s0 | initial conc: 200.0 mmole / l \t| #replicates: 3\n",
      "    s1 | initial conc: 0.0 mmole / l \t| #replicates: 0\n",
      "    p0 | initial conc: 30.0 mg / ml \t| #replicates: 0\n"
     ]
    }
   ],
   "source": [
    "# fetch the measurement and inspect the scheme\n",
    "measurement = enzmlDoc.getMeasurement('m0')\n",
    "measurement.printMeasurementScheme()"
   ]
  },
  {
   "cell_type": "markdown",
   "metadata": {},
   "source": [
    "The overview of the measurement shows that the product propioin (s1) has three replicates, which contain the measured time-course data."
   ]
  },
  {
   "cell_type": "markdown",
   "metadata": {},
   "source": [
    "## Data preparation\n",
    "In this scenario, the recorded time-course data should be visualised. The inbuilt function `exportData` for the measurement is used to extract the relevant data. It returns a dictionary with initial concentrations and the time-course data stored in a pandas DataFrame, which can be used for simple visualisation."
   ]
  },
  {
   "cell_type": "code",
   "execution_count": 4,
   "metadata": {},
   "outputs": [
    {
     "data": {
      "text/html": [
       "<div>\n",
       "<style scoped>\n",
       "    .dataframe tbody tr th:only-of-type {\n",
       "        vertical-align: middle;\n",
       "    }\n",
       "\n",
       "    .dataframe tbody tr th {\n",
       "        vertical-align: top;\n",
       "    }\n",
       "\n",
       "    .dataframe thead th {\n",
       "        text-align: right;\n",
       "    }\n",
       "</style>\n",
       "<table border=\"1\" class=\"dataframe\">\n",
       "  <thead>\n",
       "    <tr style=\"text-align: right;\">\n",
       "      <th></th>\n",
       "      <th>prod1_repl1/s0/mmole / l</th>\n",
       "      <th>prod1_repl2/s0/mmole / l</th>\n",
       "      <th>prod1_repl3/s0/mmole / l</th>\n",
       "    </tr>\n",
       "    <tr>\n",
       "      <th>time/min</th>\n",
       "      <th></th>\n",
       "      <th></th>\n",
       "      <th></th>\n",
       "    </tr>\n",
       "  </thead>\n",
       "  <tbody>\n",
       "    <tr>\n",
       "      <th>0.0</th>\n",
       "      <td>0.000000</td>\n",
       "      <td>0.000000</td>\n",
       "      <td>0.000000</td>\n",
       "    </tr>\n",
       "    <tr>\n",
       "      <th>15.0</th>\n",
       "      <td>63.784611</td>\n",
       "      <td>66.106679</td>\n",
       "      <td>67.447746</td>\n",
       "    </tr>\n",
       "    <tr>\n",
       "      <th>30.0</th>\n",
       "      <td>77.957073</td>\n",
       "      <td>80.538850</td>\n",
       "      <td>81.174757</td>\n",
       "    </tr>\n",
       "    <tr>\n",
       "      <th>60.0</th>\n",
       "      <td>80.241658</td>\n",
       "      <td>85.079882</td>\n",
       "      <td>88.266513</td>\n",
       "    </tr>\n",
       "    <tr>\n",
       "      <th>120.0</th>\n",
       "      <td>81.314628</td>\n",
       "      <td>90.150488</td>\n",
       "      <td>85.021530</td>\n",
       "    </tr>\n",
       "  </tbody>\n",
       "</table>\n",
       "</div>"
      ],
      "text/plain": [
       "          prod1_repl1/s0/mmole / l  prod1_repl2/s0/mmole / l  \\\n",
       "time/min                                                       \n",
       "0.0                       0.000000                  0.000000   \n",
       "15.0                     63.784611                 66.106679   \n",
       "30.0                     77.957073                 80.538850   \n",
       "60.0                     80.241658                 85.079882   \n",
       "120.0                    81.314628                 90.150488   \n",
       "\n",
       "          prod1_repl3/s0/mmole / l  \n",
       "time/min                            \n",
       "0.0                       0.000000  \n",
       "15.0                     67.447746  \n",
       "30.0                     81.174757  \n",
       "60.0                     88.266513  \n",
       "120.0                    85.021530  "
      ]
     },
     "execution_count": 4,
     "metadata": {},
     "output_type": "execute_result"
    }
   ],
   "source": [
    "# get reaction name for the title of the visualisation\n",
    "reaction_name = enzmlDoc.getReaction('r0').name\n",
    "\n",
    "# get time-course data and prepare it for visualisation\n",
    "measurementDict = measurement.exportData()\n",
    "time_course_data = measurementDict['reactants']['data']\n",
    "time_course_data = time_course_data.set_index(time_course_data.columns[0])\n",
    "time_course_data"
   ]
  },
  {
   "cell_type": "markdown",
   "metadata": {},
   "source": [
    "## Visualisation of time-course data\n",
    "All time-course data is visualised with the Python library Matplotlib.  \n",
    "To save the figure as SVG uncomment the `plt.savefig(...)` code line."
   ]
  },
  {
   "cell_type": "code",
   "execution_count": 5,
   "metadata": {},
   "outputs": [
    {
     "data": {
      "image/png": "[encoded data removed]",
      "text/plain": [
       "<Figure size 432x288 with 1 Axes>"
      ]
     },
     "metadata": {
      "needs_background": "light"
     },
     "output_type": "display_data"
    }
   ],
   "source": [
    "plt.figure()\n",
    "ax = plt.subplot()\n",
    "ax.plot(time_course_data, 'o', ms=3, color='#377eb8')\n",
    "plt.title(reaction_name)\n",
    "ax.set_xlabel(f\"time [{enzmlDoc.getMeasurement('m0').global_time_unit}]\")\n",
    "ax.set_ylabel('concentration [mM]')\n",
    "ax.set_ylim(ymax = 100)\n",
    "# save as svg\n",
    "# plt.savefig('time-course.svg', bbox_inches='tight')\n",
    "plt.show()"
   ]
  },
  {
   "cell_type": "markdown",
   "metadata": {},
   "source": [
    "The plot shows the synthesis of propioin from propanal. The initial concentration of propanal was 200 mM, and two propanal form one propioin. Since the curves don't reach 100 mM, not all propanal was converted.  "
   ]
  },
  {
   "cell_type": "markdown",
   "metadata": {},
   "source": [
    "## Upload to DaRUS \n",
    "Since this scenario is part of a momentarily written paper, it will be uploaded to a DataVerse on DaRUS, the data repository of the University of Stuttgart, and get a DOI. "
   ]
  },
  {
   "cell_type": "markdown",
   "metadata": {},
   "source": [
    "## Final remarks\n",
    "This is the first and shortest of the scenarios in my report. Therefore it is a good starting point for them."
   ]
  }
 ],
 "metadata": {
  "interpreter": {
   "hash": "7c2992e9c105260cd776f00ce82eab482c82c43a5dc8a92fbccdfab19b1b40a5"
  },
  "kernelspec": {
   "display_name": "Python 3 (ipykernel)",
   "language": "python",
   "name": "python3"
  },
  "language_info": {
   "codemirror_mode": {
    "name": "ipython",
    "version": 3
   },
   "file_extension": ".py",
   "mimetype": "text/x-python",
   "name": "python",
   "nbconvert_exporter": "python",
   "pygments_lexer": "ipython3",
   "version": "3.9.10"
  }
 },
 "nbformat": 4,
 "nbformat_minor": 2
}
