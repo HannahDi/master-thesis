{
 "cells": [
  {
   "cell_type": "markdown",
   "id": "01f6307a",
   "metadata": {},
   "source": [
    "# Scenario 2: Measuring the stability of enzymes\n",
    "Data provided by Amalie Vang Høst (Department of Chemical and Biochemical Engineering, Technical University of Denmark, 2800 Kgs Lyngby, Denmark)  \n",
    "  \n",
    "The datasets for this and all following scenarios were created by Simone Lauterbach. Usually, the project partners fill out an EnzymeML spreadsheet template, which is a structured Excel file with macros. Simone checked the spreadsheets for completeness and converted them into EnzymeML documents.  \n",
    "In this scenario, the time-course data from the EnzymeML document is analysed visually, and initial rates are calculated. The analysis of initial rates is widespread by many of our project partners and in biocatalysis in general.  \n",
    "This scenario is a reproduction of the analysis done by Vang Høst in Excel, which she provided us with.  \n",
    "The initial rate analysis aims to investigate the stability of the enzyme glucose oxidase, characterised by activity loss over time in the experimental conditions. Measured was glucose oxidation to gluconolactone, which spontaneously hydrolyses to gluconic acid in water."
   ]
  },
  {
   "cell_type": "markdown",
   "id": "1ea2b7cb",
   "metadata": {},
   "source": [
    "## Imports\n",
    "First, all necessary Python packages must be installed and imported.  \n",
    "This step is the same for all scenarios and differs only in the used python packages.\n",
    "If you run this notebook with Binder, you don't have to install anything. Binder takes care of this.   \n",
    "If you run this notebook locally, make sure you have all Packages installed. All needed packages with the used version can be found in the `requirements.txt` in the root GitHub directory (not in `\\book`)."
   ]
  },
  {
   "cell_type": "code",
   "execution_count": 1,
   "id": "engaged-valuable",
   "metadata": {},
   "outputs": [],
   "source": [
    "import os\n",
    "import matplotlib.pyplot as plt\n",
    "import numpy as np\n",
    "\n",
    "from scipy import stats\n",
    "from pyenzyme import EnzymeMLDocument"
   ]
  },
  {
   "cell_type": "markdown",
   "id": "2fa72e29",
   "metadata": {},
   "source": [
    "## Reading EnzymeML with PyEnzyme software\n",
    "In order to read the EnzymeML document and access its content with the PyEnzyme software, the file path is defined.  \n",
    "If you want to run this Jupyter Notebook locally, make sure you have the same folder structure or change the path accordingly.  \n",
    "When running the following code cell, the EnzymeML document is saved in the `enzmlDoc` variable, and an overview is printed below."
   ]
  },
  {
   "cell_type": "code",
   "execution_count": 2,
   "id": "beneficial-mining",
   "metadata": {
    "tags": [
     "output_scroll"
    ]
   },
   "outputs": [
    {
     "name": "stdout",
     "output_type": "stream",
     "text": [
      "Host_Measurements\n",
      ">>> Reactants\n",
      "\tID: s0 \t Name: Glucose\n",
      "\tID: s1 \t Name: water\n",
      "\tID: s2 \t Name: O2\n",
      "\tID: s3 \t Name: 4-aminoantipyrine\n",
      "\tID: s4 \t Name: 3,5-dichloro-2-hydroxybenzenesulfonic acid\n",
      "\tID: s5 \t Name: Gluconic acid\n",
      "\tID: s6 \t Name: pink product\n",
      ">>> Proteins\n",
      "\tID: p0 \t Name: Glucose Oxidase\n",
      ">>> Complexes\n",
      ">>> Reactions\n",
      "\tID: r0 \t Name: Deactivation of glucose oxidase\n",
      ">>> Measurements\n",
      "\n",
      "ID    Species   Conc      Unit  \n",
      "================================\n",
      "m0    p0        0.500   g / l   \n",
      "m0    s0        1       mole / l\n",
      "m0    s1        0       mole / l\n",
      "m0    s2        0       mole / l\n",
      "m0    s3        1       mole / l\n",
      "m0    s4        10      mole / l\n",
      "m0    s5        0       mole / l\n",
      "m0    s6        0       mole / l\n",
      "m1    p0        0.500   g / l   \n",
      "m1    s0        1       mole / l\n",
      "m1    s1        0       mole / l\n",
      "m1    s2        0       mole / l\n",
      "m1    s3        1       mole / l\n",
      "m1    s4        10      mole / l\n",
      "m1    s5        0       mole / l\n",
      "m1    s6        0       mole / l\n",
      "m2    p0        0.500   g / l   \n",
      "m2    s0        1       mole / l\n",
      "m2    s1        0       mole / l\n",
      "m2    s2        0       mole / l\n",
      "m2    s3        1       mole / l\n",
      "m2    s4        10      mole / l\n",
      "m2    s5        0       mole / l\n",
      "m2    s6        0       mole / l\n",
      "m3    p0        0.500   g / l   \n",
      "m3    s0        1       mole / l\n",
      "m3    s1        0       mole / l\n",
      "m3    s2        0       mole / l\n",
      "m3    s3        1       mole / l\n",
      "m3    s4        10      mole / l\n",
      "m3    s5        0       mole / l\n",
      "m3    s6        0       mole / l\n",
      "m4    p0        0.500   g / l   \n",
      "m4    s0        1       mole / l\n",
      "m4    s1        0       mole / l\n",
      "m4    s2        0       mole / l\n",
      "m4    s3        1       mole / l\n",
      "m4    s4        10      mole / l\n",
      "m4    s5        0       mole / l\n",
      "m4    s6        0       mole / l\n",
      "m5    p0        0.500   g / l   \n",
      "m5    s0        1       mole / l\n",
      "m5    s1        0       mole / l\n",
      "m5    s2        0       mole / l\n",
      "m5    s3        1       mole / l\n",
      "m5    s4        10      mole / l\n",
      "m5    s5        0       mole / l\n",
      "m5    s6        0       mole / l\n",
      "m6    p0        0.500   g / l   \n",
      "m6    s0        1       mole / l\n",
      "m6    s1        0       mole / l\n",
      "m6    s2        0       mole / l\n",
      "m6    s3        1       mole / l\n",
      "m6    s4        10      mole / l\n",
      "m6    s5        0       mole / l\n",
      "m6    s6        0       mole / l\n",
      "m7    p0        0.500   g / l   \n",
      "m7    s0        1       mole / l\n",
      "m7    s1        0       mole / l\n",
      "m7    s2        0       mole / l\n",
      "m7    s3        1       mole / l\n",
      "m7    s4        10      mole / l\n",
      "m7    s5        0       mole / l\n",
      "m7    s6        0       mole / l\n",
      "m8    p0        0.500   g / l   \n",
      "m8    s0        1       mole / l\n",
      "m8    s1        0       mole / l\n",
      "m8    s2        0       mole / l\n",
      "m8    s3        1       mole / l\n",
      "m8    s4        10      mole / l\n",
      "m8    s5        0       mole / l\n",
      "m8    s6        0       mole / l\n",
      "m9    p0        0.500   g / l   \n",
      "m9    s0        1       mole / l\n",
      "m9    s1        0       mole / l\n",
      "m9    s2        0       mole / l\n",
      "m9    s3        1       mole / l\n",
      "m9    s4        10      mole / l\n",
      "m9    s5        0       mole / l\n",
      "m9    s6        0       mole / l\n",
      "m10   p0        0.500   g / l   \n",
      "m10   s0        1       mole / l\n",
      "m10   s1        0       mole / l\n",
      "m10   s2        0       mole / l\n",
      "m10   s3        1       mole / l\n",
      "m10   s4        10      mole / l\n",
      "m10   s5        0       mole / l\n",
      "m10   s6        0       mole / l\n",
      "                                \n",
      "\n"
     ]
    }
   ],
   "source": [
    "path = '../../data/Host_Measurements_orig.omex'\n",
    "\n",
    "# check for correct file path and file extension:\n",
    "if os.path.isfile(path) and os.path.basename(path).lower().endswith('.omex'):\n",
    "    enzmlDoc = EnzymeMLDocument.fromFile(path)\n",
    "    enzmlDoc.printDocument(measurements=True)\n",
    "else:\n",
    "    raise FileNotFoundError(\n",
    "        f'Couldnt find file at {path}.'\n",
    "    )"
   ]
  },
  {
   "cell_type": "markdown",
   "id": "e4268db8",
   "metadata": {},
   "source": [
    "This experiment consists of eleven measurements and consisting of seven reactants (s0 -s6) and one protein (p0).  \n",
    "For initial rate calculation, only  the time-course data is needed. Those are usually analysed in relation to different initial concentrations of the substrate. In this case, the stability of the enzyme is of interest. Therefore, all eleven measurements (m0 - m10) were carried out under identical conditions and with identical initial concentrations, but the time to add the substrate and start the reaction varied. This information was stored in the measurement names.  \n",
    "Next, one measurement is exemplarily examined. "
   ]
  },
  {
   "cell_type": "code",
   "execution_count": 3,
   "id": "0d33c4ee",
   "metadata": {},
   "outputs": [
    {
     "name": "stdout",
     "output_type": "stream",
     "text": [
      ">>> Measurement m0: Measurement after 0 min\n",
      "    s0 | initial conc: 1.0 mole / l \t| #replicates: 0\n",
      "    s1 | initial conc: 0.0 mole / l \t| #replicates: 0\n",
      "    s2 | initial conc: 0.0 mole / l \t| #replicates: 0\n",
      "    s3 | initial conc: 1.0 mole / l \t| #replicates: 0\n",
      "    s4 | initial conc: 10.0 mole / l \t| #replicates: 0\n",
      "    s5 | initial conc: 0.0 mole / l \t| #replicates: 3\n",
      "    s6 | initial conc: 0.0 mole / l \t| #replicates: 0\n",
      "    p0 | initial conc: 0.5 g / l \t| #replicates: 0\n"
     ]
    }
   ],
   "source": [
    "# fetch the measurement\n",
    "measurement0 = enzmlDoc.getMeasurement('m0')\n",
    "measurement0.printMeasurementScheme()"
   ]
  },
  {
   "cell_type": "markdown",
   "id": "81966efc",
   "metadata": {},
   "source": [
    "The overview of the initial measurement shows that the product gluconic acid (s5) has three replicates. These contain the measured time-course data.  "
   ]
  },
  {
   "cell_type": "markdown",
   "id": "f9a29613",
   "metadata": {},
   "source": [
    "## Data preparation\n",
    "In this experiment, to analyse the stability of the enzyme, only the change of the initial rates over time is of interest. Therefore only the measured time-course data and the measurement names containing the time information are stored for each measurement. To extract the information of the measurement time, string manipulation is used. "
   ]
  },
  {
   "cell_type": "code",
   "execution_count": 4,
   "id": "544e1197",
   "metadata": {},
   "outputs": [],
   "source": [
    "# initialise datastructure to store experimental data\n",
    "experimentalData = []\n",
    "\n",
    "# time and substrate concentration unit\n",
    "measurement = enzmlDoc.getMeasurement('m0')\n",
    "time = np.array(measurement.global_time, float)\n",
    "timeUnit = measurement.global_time_unit\n",
    "concentrationUnit = ''\n",
    "\n",
    "# go through all measurements:\n",
    "for measurement in enzmlDoc.measurement_dict.values():\n",
    "    name = measurement.name\n",
    "    measurementData = {\n",
    "        'name': name,\n",
    "        'measuring time min': float(name.split(' ')[-2]),\n",
    "        'measuring time h': float(name.split(' ')[-2])/60,\n",
    "        'measured': []\n",
    "    }\n",
    "\n",
    "    # get replicates with time course data:\n",
    "    reactant = measurement.getReactant('s5')\n",
    "    \n",
    "    for replicate in reactant.replicates:\n",
    "        measurementData['measured'].append(replicate.data)\n",
    "        \n",
    "    experimentalData.append(measurementData)"
   ]
  },
  {
   "cell_type": "markdown",
   "id": "d81d6856",
   "metadata": {},
   "source": [
    "## Visualisation of time-course data\n",
    "All time-course data is visualised with the Python library Matplotlib.  \n",
    "To save the figure as SVG uncomment the `plt.savefig(...)` code line."
   ]
  },
  {
   "cell_type": "code",
   "execution_count": 5,
   "id": "regional-gender",
   "metadata": {},
   "outputs": [
    {
     "data": {
      "image/png": "[encoded data removed]",
      "text/plain": [
       "<Figure size 432x288 with 1 Axes>"
      ]
     },
     "metadata": {
      "needs_background": "light"
     },
     "output_type": "display_data"
    }
   ],
   "source": [
    "# define colors for time-course visualisation\n",
    "colors = ['#a6cee3','#1f78b4','#b2df8a','#33a02c','#fb9a99','#fdbf6f', \\\n",
    "          '#ff7f00','#cab2d6','#6a3d9a','#ffff99','#b15928']\n",
    "# plot time course data with matplotlib\n",
    "reaction_name = enzmlDoc.getReaction('r0').name\n",
    "plt.figure()\n",
    "ax = plt.subplot()\n",
    "for i in range(len(experimentalData)):\n",
    "    t = experimentalData[i]['measuring time min']\n",
    "    if t < 60:\n",
    "        ax.plot([], 'o', ms=3, label=str(int(t)) + ' [min]', color = colors[i])\n",
    "    else:\n",
    "        ax.plot([], 'o', ms=3, label=str(t/60) + ' [h]', color = colors[i])\n",
    "    for measurement in experimentalData[i]['measured']:\n",
    "        ax.plot(time, measurement, 'o', ms=2, color = colors[i])\n",
    "plt.title(reaction_name)\n",
    "ax.set_xlabel('time ['+timeUnit+']')\n",
    "ax.set_ylabel('Absorbance')\n",
    "plt.legend(bbox_to_anchor=(0, 0, 1, -0.15), mode=\"expand\", ncol=4)\n",
    "# save as svg\n",
    "#plt.savefig('time-course.svg', bbox_inches='tight')\n",
    "plt.show()"
   ]
  },
  {
   "cell_type": "markdown",
   "id": "b74fae59",
   "metadata": {},
   "source": [
    "The visualisation shows that the curves were less steep the more time passed. The steep light blue curve shows that the time-courses are not entirely linear but starts with a lag phase."
   ]
  },
  {
   "cell_type": "markdown",
   "id": "hungry-convenience",
   "metadata": {},
   "source": [
    "## Computation of initial rates\n",
    "To calculate the initial rates, the slope for each replicate is estimated from the first 30 data points (0 to 29 seconds) to be consistent with the calculations done by Vang Høst. This is done with linear regression by the Python library SciPy.  \n",
    "To calculate the slope of another fraction of the time-course, change the `start` and `end` variable accordingly, `end` should not be greater than 59.  \n",
    "Then the mean from the three replicates is calculated for each measurement and saved in `experimentalData`.  \n",
    "With an extinction coefficient of 26 {cite}`Heuts2007`, the rates are determined according to Lambert-Beer law as follows:  \n",
    "> $ rate = \\frac{meanOfSlope}{26}*1000$  \n",
    ">\n",
    "and also stored in `experimentalData`.  \n",
    "And finally, the residual activity compared to the initial activity is calculated and stored."
   ]
  },
  {
   "cell_type": "code",
   "execution_count": 6,
   "id": "be63bb8d",
   "metadata": {},
   "outputs": [],
   "source": [
    "start = 0\n",
    "end = 29\n",
    "for measurement in experimentalData:\n",
    "    slopes = []\n",
    "    for replicate in measurement['measured']:\n",
    "        slope, intercept, r, p, se = stats.linregress(time[start:end], replicate[start:end])\n",
    "        slopes.append(slope)\n",
    "    slope = np.mean(slopes)\n",
    "    measurement['slope'] = round(slope, 4)\n",
    "    measurement['v0'] =  round(slope/(26)*1000, 3)\n",
    "    measurement['residual activity'] = measurement['v0']/experimentalData[0]['v0']*100"
   ]
  },
  {
   "cell_type": "markdown",
   "id": "238fa5dd",
   "metadata": {},
   "source": [
    "## Visualisation of the rates\n",
    "First the rates are plotted over the time."
   ]
  },
  {
   "cell_type": "code",
   "execution_count": 7,
   "id": "242bf724",
   "metadata": {},
   "outputs": [
    {
     "data": {
      "image/png": "[encoded data removed]",
      "text/plain": [
       "<Figure size 432x288 with 1 Axes>"
      ]
     },
     "metadata": {
      "needs_background": "light"
     },
     "output_type": "display_data"
    }
   ],
   "source": [
    "plt.figure()\n",
    "ax = plt.subplot()\n",
    "for measurement in experimentalData:\n",
    "    ax.plot(measurement['measuring time h'], measurement['v0'], 'o', ms=4, color='#377eb8')\n",
    "ax.set_xlabel('time [h]')\n",
    "ax.set_ylabel('average rate [g/l * 1/s]')\n",
    "ax.set_ylim(ymin=0)\n",
    "ax.set_xlim(xmin=0)\n",
    "# save as svg\n",
    "# plt.savefig('rates.svg', bbox_inches='tight')\n",
    "plt.show()"
   ]
  },
  {
   "cell_type": "markdown",
   "id": "26e20693",
   "metadata": {},
   "source": [
    "Second the residual of the rates is plotted."
   ]
  },
  {
   "cell_type": "code",
   "execution_count": 8,
   "id": "efebd80c",
   "metadata": {},
   "outputs": [
    {
     "data": {
      "image/png": "[encoded data removed]",
      "text/plain": [
       "<Figure size 432x288 with 1 Axes>"
      ]
     },
     "metadata": {
      "needs_background": "light"
     },
     "output_type": "display_data"
    }
   ],
   "source": [
    "plt.figure()\n",
    "ax = plt.subplot()\n",
    "for measurement in experimentalData:\n",
    "    ax.plot(measurement['measuring time h'], measurement['residual activity'], 'o', ms=4, color='#377eb8')\n",
    "ax.set_xlabel('time [h]')\n",
    "ax.set_ylabel('residual activity [%]')\n",
    "ax.set_yticks(np.arange(0, 105, 10))\n",
    "ax.set_xlim(xmin=0)\n",
    "# save as svg\n",
    "# plt.savefig('residual-activity.svg', bbox_inches='tight')\n",
    "plt.show()"
   ]
  },
  {
   "cell_type": "markdown",
   "id": "71a7671d",
   "metadata": {},
   "source": [
    "The figures show a decrease in the initial rates over time, which corresponds to the enzyme's activity. This suggests the instability of the enzyme in the given conditions. The greatest activity loss seems to happen very fast in the first minute."
   ]
  },
  {
   "cell_type": "markdown",
   "id": "43af1b28",
   "metadata": {},
   "source": [
    "## Upload to DaRUS \n",
    "Since this scenario is part of a momentarily written paper, it will be uploaded to a DataVerse on DaRUS, the data repository of the University of Stuttgart, and get a DOI. "
   ]
  }
 ],
 "metadata": {
  "celltoolbar": "Tags",
  "interpreter": {
   "hash": "7c2992e9c105260cd776f00ce82eab482c82c43a5dc8a92fbccdfab19b1b40a5"
  },
  "kernelspec": {
   "display_name": "Python 3 (ipykernel)",
   "language": "python",
   "name": "python3"
  },
  "language_info": {
   "codemirror_mode": {
    "name": "ipython",
    "version": 3
   },
   "file_extension": ".py",
   "mimetype": "text/x-python",
   "name": "python",
   "nbconvert_exporter": "python",
   "pygments_lexer": "ipython3",
   "version": "3.9.10"
  }
 },
 "nbformat": 4,
 "nbformat_minor": 5
}
